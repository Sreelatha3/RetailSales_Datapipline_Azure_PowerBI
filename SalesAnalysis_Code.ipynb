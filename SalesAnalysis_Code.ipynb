{
  "cells": [
    {
      "cell_type": "markdown",
      "metadata": {
        "id": "view-in-github",
        "colab_type": "text"
      },
      "source": [
        "<a href=\"https://colab.research.google.com/github/Sreelatha3/RetailSales_Datapipline_Azure_PowerBI/blob/main/SalesAnalysis_Code.ipynb\" target=\"_parent\"><img src=\"https://colab.research.google.com/assets/colab-badge.svg\" alt=\"Open In Colab\"/></a>"
      ]
    },
    {
      "cell_type": "markdown",
      "metadata": {
        "id": "X9a-_JUBCzfx"
      },
      "source": [
        "As a first step, we login to azure account through cli and fill out required information."
      ]
    },
    {
      "cell_type": "code",
      "execution_count": null,
      "metadata": {
        "id": "9Xp7DOj6Czf1"
      },
      "outputs": [],
      "source": [
        "!az login"
      ]
    },
    {
      "cell_type": "markdown",
      "metadata": {
        "id": "ajUoLSQbCzf3"
      },
      "source": [
        "Then we create a resource SalesResourceGroup as"
      ]
    },
    {
      "cell_type": "code",
      "execution_count": null,
      "metadata": {
        "id": "OiDUvnypCzf3"
      },
      "outputs": [],
      "source": [
        "!az group create --name SalesResourceGroup --location centralindia"
      ]
    },
    {
      "cell_type": "markdown",
      "metadata": {
        "id": "XEwolBoNCzf4"
      },
      "source": [
        "Under that resource group we create azure sql server with the following parameters:\n",
        "\n",
        "1. server: neostatssalesserver\n",
        "2. admin-user: salesadmin\n",
        "3. admin-password: Ahtaleers@2507"
      ]
    },
    {
      "cell_type": "code",
      "execution_count": null,
      "metadata": {
        "id": "7bFOcU1PCzf4"
      },
      "outputs": [],
      "source": [
        "!az sql server create --name neostatssalesserver --resource-group SalesResourceGroup --location centralindia --admin-user salesadmin --admin-password Ahtaleers@2507"
      ]
    },
    {
      "cell_type": "markdown",
      "metadata": {
        "id": "ZHNKXOo5Czf4"
      },
      "source": [
        "With in that server we create salesdb with the following command"
      ]
    },
    {
      "cell_type": "code",
      "execution_count": null,
      "metadata": {
        "id": "SeL2asyICzf5"
      },
      "outputs": [],
      "source": [
        "!az sql db create --resource-group SalesResourceGroup --server neostatssalesserver --name salesdb --service-objective S0"
      ]
    },
    {
      "cell_type": "markdown",
      "metadata": {
        "id": "BOZ1AHHsCzf5"
      },
      "source": [
        "Then we open a firewall from our clients to connect to azure sql. In this case we allow everyone to connect to our sql server"
      ]
    },
    {
      "cell_type": "code",
      "execution_count": null,
      "metadata": {
        "id": "VR65pr2RCzf5"
      },
      "outputs": [],
      "source": [
        "!az sql server firewall-rule create --resource-group SalesResourceGroup --server neostatssalesserver --name AllowedIPs --start-ip-address 0.0.0.0 --end-ip-address 255.255.255.255"
      ]
    },
    {
      "cell_type": "markdown",
      "metadata": {
        "id": "d2abfhTnCzf6"
      },
      "source": [
        "Install following python packages:\n",
        "sqlalchemy\n",
        "pyodbc"
      ]
    },
    {
      "cell_type": "code",
      "execution_count": null,
      "metadata": {
        "id": "jR8m9rXKCzf6"
      },
      "outputs": [],
      "source": [
        "%pip install sqlalchemy pyodbc"
      ]
    },
    {
      "cell_type": "markdown",
      "metadata": {
        "id": "HtCeEQgdCzf6"
      },
      "source": [
        "Setup connection sqlalchemy connection to our azure sql server"
      ]
    },
    {
      "cell_type": "code",
      "execution_count": null,
      "metadata": {
        "id": "z0sI2dssCzf6"
      },
      "outputs": [],
      "source": [
        "from sqlalchemy import create_engine, text\n",
        "\n",
        "# Connection properties\n",
        "username = 'salesadmin'\n",
        "password = 'Ahtaleers%402507'\n",
        "server = 'neostatssalesserver'\n",
        "database = 'salesdb'\n",
        "\n",
        "# Connection string\n",
        "connection_string = f\"mssql+pyodbc://{username}:{password}@{server}.database.windows.net/{database}?driver=ODBC+Driver+17+for+SQL+Server\"\n",
        "\n",
        "# Create an SQLAlchemy engine\n",
        "engine = create_engine(connection_string)\n"
      ]
    },
    {
      "cell_type": "markdown",
      "metadata": {
        "id": "GNuVxIKkCzf6"
      },
      "source": [
        "Declare Sales Table"
      ]
    },
    {
      "cell_type": "code",
      "execution_count": null,
      "metadata": {
        "id": "zWq9-vgVCzf7"
      },
      "outputs": [],
      "source": [
        "from sqlalchemy import Column, Integer, String, Float, Date\n",
        "from sqlalchemy.ext.declarative import declarative_base\n",
        "\n",
        "Base = declarative_base()\n",
        "\n",
        "class SalesRaw(Base):\n",
        "    __tablename__ = 'SALES_RAW'\n",
        "\n",
        "    id = Column(Integer, primary_key=True, nullable=False, autoincrement=True)\n",
        "    orderId = Column('orderid', String(10), nullable=False)\n",
        "    customerName = Column('customername', String(100), nullable=False)\n",
        "    phoneNumber = Column('phonenumber', String(20), nullable=True)\n",
        "    location = Column('location', String(100), nullable=False)\n",
        "    country = Column('country', String(50), nullable=False)\n",
        "    storeCode = Column('storecode', String(20), nullable=False)\n",
        "    product = Column('product', String(100), nullable=False)\n",
        "    quantity = Column('quantity', Integer, nullable=False)\n",
        "    price = Column('price', Float, nullable=False)\n",
        "    purchaseDate = Column('purchasedate', Date, nullable=True)\n",
        "    creditCardNumber = Column('creditcardnumber', String(16), nullable=True)\n",
        "    expiryDate = Column('expirydate', Date, nullable=True)\n"
      ]
    },
    {
      "cell_type": "markdown",
      "metadata": {
        "id": "AYL9uDDfCzf7"
      },
      "source": [
        "Create Sales table"
      ]
    },
    {
      "cell_type": "code",
      "execution_count": null,
      "metadata": {
        "id": "5RCTH6K9Czf7"
      },
      "outputs": [],
      "source": [
        "Base.metadata.create_all(engine)"
      ]
    },
    {
      "cell_type": "markdown",
      "metadata": {
        "id": "DCWwQzn-Czf7"
      },
      "source": [
        "Create sql alchemy session"
      ]
    },
    {
      "cell_type": "code",
      "execution_count": null,
      "metadata": {
        "id": "BUENTuZ3Czf7"
      },
      "outputs": [],
      "source": [
        "from sqlalchemy.orm import sessionmaker\n",
        "\n",
        "Session = sessionmaker(bind=engine)\n",
        "session = Session()"
      ]
    },
    {
      "cell_type": "markdown",
      "metadata": {
        "id": "vFH-FrWwCzf8"
      },
      "source": [
        "Read Sales data from disk and insert into SALES_RAW table while identifying the data anamolies"
      ]
    },
    {
      "cell_type": "code",
      "execution_count": null,
      "metadata": {
        "id": "BIxBMSTDCzf8"
      },
      "outputs": [],
      "source": [
        "import csv\n",
        "import os\n",
        "from datetime import datetime\n",
        "\n",
        "# Read csv file\n",
        "with open(os.path.expanduser('~/Dev/SalesAnalysis/Sample_Data_Ingestion.csv'), newline='') as csvfile:\n",
        "    reader = csv.DictReader(csvfile)\n",
        "\n",
        "    # Skip the header\n",
        "    header = next(reader)\n",
        "\n",
        "    # Insert data into table\n",
        "    rowNum = 0\n",
        "    for row in reader:\n",
        "        rowNum = rowNum + 1\n",
        "        try:\n",
        "            enr_num = row['PhoneNumber'].split(' ', 1)[1].replace(' ', '').replace('-', '')\n",
        "            if (len(enr_num) != 10):\n",
        "                raise Exception\n",
        "        except:\n",
        "            print(f'Warning: On row with number {rowNum}, the phone number {row[\"PhoneNumber\"]} failed the validations')\n",
        "            row['PhoneNumber'] = None\n",
        "\n",
        "        try:\n",
        "            enr_quantity = int(float(row['Quantity']))\n",
        "            row['Quantity'] = enr_quantity\n",
        "            if enr_quantity != float(row['Quantity']):\n",
        "                print(f'Warning: On row with number {rowNum}, float value found for the quantity, casting it to int')\n",
        "        except:\n",
        "            print(f'Warning: On row with number {rowNum}, failed to cast the quantity {row[\"Quantity\"]} to int. Skiping the row')\n",
        "            continue\n",
        "\n",
        "        try:\n",
        "            row['Price'] = float(row['Price'])\n",
        "        except:\n",
        "            print(f'Warning: On row with number {rowNum}, the price {row[\"Price\"]} is not in valid format. Skipping the row')\n",
        "            continue\n",
        "\n",
        "        try:\n",
        "            enr_ccnum = row['CreditCardNumber'].replace(' ', '').replace('-', '')\n",
        "            if len(enr_ccnum) != 16:\n",
        "                raise Exception\n",
        "\n",
        "            row['CreditCardNumber'] = enr_ccnum\n",
        "        except:\n",
        "            print(f'Warning: On row with number {rowNum}, the credit card number {row[\"CreditCardNumber\"]} failed the validations')\n",
        "            row['CreditCardNumber'] = None\n",
        "\n",
        "        try:\n",
        "            enr_pdate = datetime.strptime(row['Date'], '%d-%m-%Y').date()\n",
        "            row['Date'] = enr_pdate\n",
        "        except:\n",
        "            print( f'Warning: On row with number {rowNum}, purchase date {row[\"Date\"]} is not in correct format')\n",
        "            row['Date'] = None\n",
        "            enr_pdate = None\n",
        "\n",
        "        try:\n",
        "            enr_edate = datetime.strptime(row['ExpiryDate'], '%b-%y').date()\n",
        "            if enr_pdate != None and enr_pdate > enr_edate:\n",
        "                print(f'Warning: On row with number {rowNum}, purchase date is greater than expiry date skipping the row.')\n",
        "                continue\n",
        "\n",
        "            row['ExpiryDate'] = enr_edate\n",
        "        except:\n",
        "            print(f'Warning: On row with number {rowNum}, expiry date {row[\"ExpiryDate\"]} is not in correct format')\n",
        "            row['ExpiryDate'] = None\n",
        "\n",
        "        saleRaw = SalesRaw(\n",
        "            orderId=row['OrderID'],\n",
        "            customerName=row['CustomerName'],\n",
        "            phoneNumber=row['PhoneNumber'],\n",
        "            location=row['Location'],\n",
        "            country=row['Country'],\n",
        "            storeCode=row['StoreCode'],\n",
        "            product=row['Product'],\n",
        "            quantity=row['Quantity'],\n",
        "            price=row['Price'],\n",
        "            purchaseDate=row['Date'],\n",
        "            creditCardNumber=row['CreditCardNumber'],\n",
        "            expiryDate=row['ExpiryDate']\n",
        "        )\n",
        "\n",
        "        session.add(saleRaw)\n",
        "\n",
        "session.commit()"
      ]
    },
    {
      "cell_type": "markdown",
      "metadata": {
        "id": "56SbBJiaCzf8"
      },
      "source": [
        "Declare enriched sales table"
      ]
    },
    {
      "cell_type": "code",
      "execution_count": null,
      "metadata": {
        "id": "5Us-6Wk-Czf8"
      },
      "outputs": [],
      "source": [
        "class SalesEnrich(Base):\n",
        "    __tablename__ = 'SALES_ENRICH'\n",
        "\n",
        "    id = Column(Integer, primary_key=True, nullable=False, autoincrement=True)\n",
        "    orderId = Column('orderid', String(10), nullable=False)\n",
        "    customerName = Column('customername', String(100), nullable=False)\n",
        "    phoneCountryCode = Column('phonecountrycode', String(5), nullable=True)\n",
        "    phoneNumber = Column('phonenumber', String(10), nullable=True)\n",
        "    location = Column('location', String(100), nullable=False)\n",
        "    country = Column('country', String(50), nullable=False)\n",
        "    storeCode = Column('storecode', String(20), nullable=False)\n",
        "    product = Column('product', String(100), nullable=False)\n",
        "    quantity = Column('quantity', Integer, nullable=False)\n",
        "    price = Column('price', Float, nullable=False)\n",
        "    priceUSD = Column('priceusd', Float, nullable=False)\n",
        "    purchaseDate = Column('purchasedate', Date, nullable=True)\n",
        "    creditCardNumber = Column('creditcardnumber', String(16), nullable=True)\n",
        "    expiryDate = Column('expirydate', String(10), nullable=True)\n"
      ]
    },
    {
      "cell_type": "markdown",
      "metadata": {
        "id": "EO6SN2oOCzf8"
      },
      "source": [
        "Create enriched sales tabl"
      ]
    },
    {
      "cell_type": "code",
      "execution_count": null,
      "metadata": {
        "id": "wVmg92a5Czf9"
      },
      "outputs": [],
      "source": [
        "Base.metadata.create_all(engine)"
      ]
    },
    {
      "cell_type": "markdown",
      "metadata": {
        "id": "gI-1uurACzf9"
      },
      "source": [
        "Enrich sales data:\n",
        "\n",
        "1. To correct the phone number code based on the country.\n",
        "2. To convert the prices into USD\n"
      ]
    },
    {
      "cell_type": "code",
      "execution_count": null,
      "metadata": {
        "id": "-jh6ScWRCzf9"
      },
      "outputs": [],
      "source": [
        "phone_code_dict = {\n",
        "    'USA': '+1',\n",
        "    'CANADA': '+1',\n",
        "    'INDIA': '+91',\n",
        "    'UK': '+44',\n",
        "    'AUSTRALIA': '+61'\n",
        "}\n",
        "\n",
        "conversion_rates = {\n",
        "    'USA': 1.00,\n",
        "    'UK': 1.27,\n",
        "    'CANADA': 0.74,\n",
        "    'AUSTRALIA': 0.64,\n",
        "    'INDIA': 0.012,\n",
        "    'JAPAN': 0.0070,\n",
        "    'GERMANY': 1.09,\n",
        "    'FRANCE': 1.09,\n",
        "    'CHINA': 0.14\n",
        "}\n",
        "\n",
        "raw_sales = session.query(SalesRaw).all()\n",
        "for raw_sale in raw_sales:\n",
        "    enr_pcd = None\n",
        "    ern_pnum = None\n",
        "    if raw_sale.phoneNumber:\n",
        "        [curr_pcd, phone_num] = raw_sale.phoneNumber.split(' ', 1)\n",
        "        ern_pnum = phone_num.replace(' ', '').replace('-', '')\n",
        "        enr_pcd = phone_code_dict.get(raw_sale.country.upper())\n",
        "        if not enr_pcd:\n",
        "            enr_pcd = curr_pcd\n",
        "\n",
        "    sale = SalesEnrich(\n",
        "        orderId=raw_sale.orderId,\n",
        "        customerName=raw_sale.customerName,\n",
        "        phoneCountryCode=enr_pcd,\n",
        "        phoneNumber=ern_pnum,\n",
        "        location=raw_sale.location,\n",
        "        country=raw_sale.country,\n",
        "        storeCode=raw_sale.storeCode,\n",
        "        product=raw_sale.product,\n",
        "        quantity=raw_sale.quantity,\n",
        "        price=raw_sale.price,\n",
        "        priceUSD=round(raw_sale.price * conversion_rates.get(raw_sale.country.upper(), 0), 2),\n",
        "        purchaseDate=raw_sale.purchaseDate,\n",
        "        creditCardNumber=raw_sale.creditCardNumber,\n",
        "        expiryDate=raw_sale.expiryDate\n",
        "    )\n",
        "\n",
        "    session.add(sale)\n",
        "\n",
        "session.commit()\n"
      ]
    },
    {
      "cell_type": "markdown",
      "metadata": {
        "id": "l3RHRHyvCzf9"
      },
      "source": [
        "Insight: Sales Distribution by Product Type and Country"
      ]
    },
    {
      "cell_type": "code",
      "execution_count": null,
      "metadata": {
        "id": "t62ca0kVCzf9"
      },
      "outputs": [],
      "source": [
        "with engine.connect() as connection:\n",
        "    insight_sql = \"\"\"\n",
        "    SELECT country,\n",
        "        product,\n",
        "        ROUND(SUM(priceusd), 2) AS totalsales\n",
        "    FROM SALES_ENRICH\n",
        "    GROUP BY Country, Product\n",
        "    ORDER BY Country, totalsales DESC;\n",
        "    \"\"\"\n",
        "    result = connection.execute(text(insight_sql))\n",
        "    print('Country | Product | TotalSales')\n",
        "    for row in result:\n",
        "        print('|'.join(map(str, row)))\n",
        "\n",
        "\n",
        "\n"
      ]
    },
    {
      "cell_type": "markdown",
      "metadata": {
        "id": "xuon6ubJCzf-"
      },
      "source": [
        "Insight: Average Order Value by Product Type and Location"
      ]
    },
    {
      "cell_type": "code",
      "execution_count": null,
      "metadata": {
        "id": "ys9uc1i5Czf-"
      },
      "outputs": [],
      "source": [
        "with engine.connect() as connection:\n",
        "    insight_sql = \"\"\"\n",
        "    SELECT location,\n",
        "        product,\n",
        "        ROUND(AVG(priceusd), 2) AS averageprice\n",
        "    FROM SALES_ENRICH\n",
        "    GROUP BY location, product\n",
        "    ORDER BY location, averageprice DESC;\n",
        "    \"\"\"\n",
        "    result = connection.execute(text(insight_sql))\n",
        "    print('Location|Product|Average Price')\n",
        "    for row in result:\n",
        "        print('|'.join(map(str, row)))\n"
      ]
    },
    {
      "cell_type": "markdown",
      "metadata": {
        "id": "fjfFcdshCzf-"
      },
      "source": [
        "Insight: Product Popularity by Country"
      ]
    },
    {
      "cell_type": "code",
      "execution_count": null,
      "metadata": {
        "id": "9hRcsJgECzf-"
      },
      "outputs": [],
      "source": [
        "with engine.connect() as connection:\n",
        "    insight_sql = \"\"\"\n",
        "    SELECT country,\n",
        "        product,\n",
        "        SUM(quantity) AS totalUnitsSold\n",
        "    FROM SALES_ENRICH\n",
        "    GROUP BY country, product\n",
        "    ORDER BY country, totalUnitsSold DESC;\n",
        "    \"\"\"\n",
        "    result = connection.execute(text(insight_sql))\n",
        "    print('Country|Product|Total Units Sold')\n",
        "    for row in result:\n",
        "        print('|'.join(map(str, row)))"
      ]
    },
    {
      "cell_type": "markdown",
      "metadata": {
        "id": "d3OOlStzCzf-"
      },
      "source": [
        "Insight: Sales Trends by Product Type Over Time"
      ]
    },
    {
      "cell_type": "code",
      "execution_count": null,
      "metadata": {
        "id": "EBcKXE18Czf_"
      },
      "outputs": [],
      "source": [
        "with engine.connect() as connection:\n",
        "    insight_sql = \"\"\"\n",
        "    SELECT country,\n",
        "        product,\n",
        "        DATEPART(MONTH, purchasedate) AS purchasemonth,\n",
        "        DATEPART(YEAR, purchasedate)  AS purchaseyear,\n",
        "        ROUND(SUM(priceusd), 2)    AS TotalSalesUSD\n",
        "    FROM SALES_ENRICH\n",
        "    GROUP BY country, product, DATEPART(YEAR, purchasedate), DATEPART(MONTH, purchasedate)\n",
        "    ORDER BY purchaseyear, purchasemonth, country, product;\n",
        "    \"\"\"\n",
        "    result = connection.execute(text(insight_sql))\n",
        "    print('Country|Product|Purchase Month|Purchase Year|Total Sales (USD)')\n",
        "    for row in result:\n",
        "        print('|'.join(map(str, row)))"
      ]
    },
    {
      "cell_type": "markdown",
      "metadata": {
        "id": "jlozH9tmCzf_"
      },
      "source": [
        "Insight: Customer Preferences by Location"
      ]
    },
    {
      "cell_type": "code",
      "execution_count": null,
      "metadata": {
        "id": "e4C1puQ5Czf_"
      },
      "outputs": [],
      "source": [
        "with engine.connect() as connection:\n",
        "    insight_sql = \"\"\"\n",
        "    SELECT location,\n",
        "        product,\n",
        "        SUM(quantity) AS totalunits\n",
        "    FROM SALES_ENRICH\n",
        "    GROUP BY location, product\n",
        "    ORDER BY location, totalunits DESC;\n",
        "    \"\"\"\n",
        "    result = connection.execute(text(insight_sql))\n",
        "    print('Location|Product|Total Units')\n",
        "    for row in result:\n",
        "        print('|'.join(map(str, row)))"
      ]
    },
    {
      "cell_type": "markdown",
      "metadata": {
        "id": "sv-_LxVzCzf_"
      },
      "source": [
        "Insight: Revenue Contribution by Product Type and Country"
      ]
    },
    {
      "cell_type": "code",
      "execution_count": null,
      "metadata": {
        "id": "uy5l74H_CzgG"
      },
      "outputs": [],
      "source": [
        "with engine.connect() as connection:\n",
        "    insight_sql = \"\"\"\n",
        "    SELECT country,\n",
        "        product,\n",
        "        ROUND(SUM(priceusd), 2)                                                          AS revenuecontribution,\n",
        "        ROUND(SUM(priceusd) * 100.0 / SUM(SUM(priceusd)) OVER (PARTITION BY country), 2) as percentagecontribution\n",
        "    FROM SALES_ENRICH\n",
        "    GROUP BY country, product\n",
        "    ORDER BY country, PercentageContribution DESC;\n",
        "    \"\"\"\n",
        "    result = connection.execute(text(insight_sql))\n",
        "    print('Country|Product|Revenu Contribution|Percentage Contribution')\n",
        "    for row in result:\n",
        "        print('|'.join(map(str, row)))"
      ]
    }
  ],
  "metadata": {
    "kernelspec": {
      "display_name": "Python 3.10.12 ('venv': venv)",
      "language": "python",
      "name": "python3"
    },
    "language_info": {
      "codemirror_mode": {
        "name": "ipython",
        "version": 3
      },
      "file_extension": ".py",
      "mimetype": "text/x-python",
      "name": "python",
      "nbconvert_exporter": "python",
      "pygments_lexer": "ipython3",
      "version": "3.10.12"
    },
    "orig_nbformat": 4,
    "vscode": {
      "interpreter": {
        "hash": "051d4f7a66ce19115c3f7aa6c26252b5c0755d75123a8d608960cae667ba89d3"
      }
    },
    "colab": {
      "provenance": [],
      "include_colab_link": true
    }
  },
  "nbformat": 4,
  "nbformat_minor": 0
}